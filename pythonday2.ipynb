{
 "cells": [
  {
   "cell_type": "code",
   "execution_count": 27,
   "metadata": {},
   "outputs": [
    {
     "name": "stdout",
     "output_type": "stream",
     "text": [
      "This is \n",
      "T\n",
      "This is python book\n",
      "This is python book\n",
      "h\n",
      "k\n",
      "his is python boo\n",
      "y\n",
      "his is python boo\n",
      "koob nohtyp si sihT\n",
      "Ti spto ok\n",
      "19\n",
      "ko otps iT\n"
     ]
    }
   ],
   "source": [
    "a='This is python book'\n",
    "print(a[0:8])\n",
    "print(a[0:1])\n",
    "print(a[:])\n",
    "print(a[0:])\n",
    "print(a[1:2])\n",
    "print(a[-1])\n",
    "print(a[1:18])\n",
    "print(a[9])\n",
    "print(a[1:-1])\n",
    "print(a[::-1])\n",
    "print(a[::2])\n",
    "print(len(a))\n",
    "print(a[::-2])\n"
   ]
  },
  {
   "cell_type": "markdown",
   "metadata": {},
   "source": [
    "###### print"
   ]
  },
  {
   "cell_type": "code",
   "execution_count": 32,
   "metadata": {},
   "outputs": [
    {
     "name": "stdout",
     "output_type": "stream",
     "text": [
      "python program\n",
      "PYTHON PROGRAM\n",
      "P,y,t,h,o,n, ,P,r,o,g,r,a,m\n",
      "['Python', 'Program']\n",
      "Pythan Pragram\n"
     ]
    }
   ],
   "source": [
    "b=\"Python Program\"\n",
    "print(b.lower())\n",
    "print(b.upper())\n",
    "print(\",\".join(b))\n",
    "print(b.split())\n",
    "print(b.replace(\"o\",\"a\"))"
   ]
  },
  {
   "cell_type": "code",
   "execution_count": 49,
   "metadata": {},
   "outputs": [
    {
     "name": "stdout",
     "output_type": "stream",
     "text": [
      "1\n",
      "5\n",
      "None\n",
      "[1, 2, 5, 3, 4, 5]\n",
      "[8, 2, 5, 3, 4, 5]\n"
     ]
    }
   ],
   "source": [
    "list=[1,2,3,4,5]\n",
    "print(list[0])\n",
    "print(len(list))\n",
    "print(list.insert(2,5))\n",
    "print(list)\n",
    "list[0]=8\n",
    "print(list)"
   ]
  },
  {
   "cell_type": "code",
   "execution_count": null,
   "metadata": {},
   "outputs": [],
   "source": []
  },
  {
   "cell_type": "code",
   "execution_count": null,
   "metadata": {},
   "outputs": [],
   "source": []
  }
 ],
 "metadata": {
  "kernelspec": {
   "display_name": "Python 3",
   "language": "python",
   "name": "python3"
  },
  "language_info": {
   "codemirror_mode": {
    "name": "ipython",
    "version": 3
   },
   "file_extension": ".py",
   "mimetype": "text/x-python",
   "name": "python",
   "nbconvert_exporter": "python",
   "pygments_lexer": "ipython3",
   "version": "3.7.4"
  }
 },
 "nbformat": 4,
 "nbformat_minor": 2
}
